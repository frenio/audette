{
 "cells": [
  {
   "cell_type": "code",
   "execution_count": null,
   "id": "69eae54b",
   "metadata": {},
   "outputs": [],
   "source": [
    "---\n",
    "skip_exec: true\n",
    "---"
   ]
  },
  {
   "cell_type": "markdown",
   "id": "6be03318",
   "metadata": {},
   "source": [
    "# core\n",
    "\n",
    "> The core package contains the `Chat` class central to this package."
   ]
  },
  {
   "cell_type": "code",
   "execution_count": null,
   "id": "a623367f",
   "metadata": {},
   "outputs": [],
   "source": [
    "#| default_exp core"
   ]
  },
  {
   "cell_type": "code",
   "execution_count": null,
   "id": "252d08ae",
   "metadata": {},
   "outputs": [],
   "source": [
    "#| hide\n",
    "from nbdev.showdoc import *"
   ]
  },
  {
   "cell_type": "code",
   "execution_count": null,
   "id": "b5634d06",
   "metadata": {},
   "outputs": [],
   "source": [
    "#| export\n",
    "import os\n",
    "import requests\n",
    "import json\n",
    "from datetime import datetime\n",
    "from IPython.display import Markdown, display_markdown\n",
    "from fastcore.basics import patch\n",
    "from dotenv import load_dotenv"
   ]
  },
  {
   "cell_type": "markdown",
   "id": "d75736bc",
   "metadata": {},
   "source": [
    "The following line loads the OpenRouter api key from the `.env` file which is hidden from you. To use this notebook, either create a `.env` file containing `OPENROUTER_API_KEY=your_api_key` or uncomment the `os.environ` assignment below and set it to your personal api key."
   ]
  },
  {
   "cell_type": "code",
   "execution_count": null,
   "id": "8257e014",
   "metadata": {},
   "outputs": [
    {
     "data": {
      "text/plain": [
       "True"
      ]
     },
     "execution_count": null,
     "metadata": {},
     "output_type": "execute_result"
    }
   ],
   "source": [
    "load_dotenv(\"../.env\")\n",
    "# os.environ['OPENROUTER_API_KEY'] = <your OpenRouter api key>"
   ]
  },
  {
   "cell_type": "code",
   "execution_count": null,
   "id": "c4932f83",
   "metadata": {},
   "outputs": [],
   "source": [
    "#| export\n",
    "def show(string): return Markdown(string)"
   ]
  },
  {
   "cell_type": "code",
   "execution_count": null,
   "id": "02c4fed2",
   "metadata": {},
   "outputs": [],
   "source": [
    "#| export\n",
    "class Chat():\n",
    "    def __init__(self, model):\n",
    "        self.model = model\n",
    "        self.usage = []\n",
    "        self.context = []\n",
    "        self.date = None\n",
    "        self.time = None\n",
    "        self.history = []\n",
    "        self.chatsdir = ''\n",
    "        self.title = f\"conversation-with-{self.model.split('/')[1].replace(':', '-')}\"\n",
    "        \n",
    "    def __call__(self, prompt):\n",
    "        self.context.append({\"role\": \"user\", \"content\": prompt})\n",
    "        resp = requests.post(url=\"https://openrouter.ai/api/v1/chat/completions\", \n",
    "                             headers={\"Authorization\": f\"Bearer {os.getenv('OPENROUTER_API_KEY')}\"},\n",
    "                             json={\"model\": self.model,\n",
    "                                   \"messages\": self.context})\n",
    "        ans = resp.json()['choices'][0]['message']\n",
    "        self.context.append(ans)\n",
    "        self.usage.append(resp.json()['usage'])\n",
    "        self.date = resp.json()['created']\n",
    "        self.history.append(resp.json())\n",
    "        self.chatsdir = f\"chats/{self.history[-1]['model']}/\"\n",
    "        return self._show(ans['content'])\n",
    "        \n",
    "    def _show(self, string): return Markdown(string)\n",
    "        \n",
    "    def usage_summary(self):\n",
    "        intok = [u['prompt_tokens'] for u in self.usage]\n",
    "        outok = [u['completion_tokens'] for u in self.usage]\n",
    "        totok = [u['total_tokens'] for u in self.usage]\n",
    "        print(f\"Input tokens: {sum(intok)}\\nOutput tokens: {sum(outok)}\\nTotal tokens: {sum(totok)}\")\n",
    "        \n",
    "    def forget_last(self):\n",
    "        self.context = self.context[:-1]\n",
    "        return self.context"
   ]
  },
  {
   "cell_type": "code",
   "execution_count": null,
   "id": "84fa09bc",
   "metadata": {},
   "outputs": [],
   "source": [
    "#| export\n",
    "@patch\n",
    "def save_conversation(self:Chat, generate_title=True):\n",
    "    conv = json.dumps(self.context, ensure_ascii=False, indent=2)\n",
    "    self.time = datetime.fromtimestamp(self.date).strftime('%Y%m%d-%H%M%S')\n",
    "    os.makedirs(self.chatsdir, exist_ok=True)\n",
    "    if generate_title:\n",
    "        self.context.append({\"role\": \"user\", \"content\": \"Generate an all lower case title for our conversation connecting the words with hyphens (-) instead of spaces. Output nothing but the title. Five words max!\"})\n",
    "        resp = requests.post(url=\"https://openrouter.ai/api/v1/chat/completions\", \n",
    "                             headers={\"Authorization\": f\"Bearer {os.getenv('OPENROUTER_API_KEY')}\"},\n",
    "                             json={\"model\": self.model,\n",
    "                                   \"messages\": self.context})\n",
    "        self.usage.append(resp.json()['usage'])\n",
    "        self.title = resp.json()['choices'][0]['message']['content'].strip()\n",
    "        self.forget_last()\n",
    "    \n",
    "    file_path = self.chatsdir + self.time + \"-\" + self.title + \".txt\"\n",
    "    with open(file_path, 'w') as f:\n",
    "        f.write(conv)\n",
    "    return \"Saving complete!\""
   ]
  },
  {
   "cell_type": "code",
   "execution_count": null,
   "id": "6d6ca935",
   "metadata": {},
   "outputs": [],
   "source": [
    "model = \"google/gemini-2.0-pro-exp-02-05:free\"\n",
    "chat = Chat(model)"
   ]
  },
  {
   "cell_type": "code",
   "execution_count": null,
   "id": "a99c1270",
   "metadata": {},
   "outputs": [
    {
     "data": {
      "text/markdown": [
       "CC(C)Cc1ccc(C(C)C(=O)O)cc1\n"
      ],
      "text/plain": [
       "<IPython.core.display.Markdown object>"
      ]
     },
     "execution_count": null,
     "metadata": {},
     "output_type": "execute_result"
    }
   ],
   "source": [
    "chat(\"Give me the canonical SMILES string of ibuprofen. Output only the SMILES string and nothing else.\")"
   ]
  },
  {
   "cell_type": "code",
   "execution_count": null,
   "id": "db9c8778",
   "metadata": {},
   "outputs": [],
   "source": [
    "from rdkit import Chem\n",
    "from rdkit.Chem import Draw"
   ]
  },
  {
   "cell_type": "code",
   "execution_count": null,
   "id": "d51d863a",
   "metadata": {},
   "outputs": [
    {
     "data": {
      "image/png": "[encoded data removed]",
      "text/plain": [
       "<IPython.core.display.Image object>"
      ]
     },
     "execution_count": null,
     "metadata": {},
     "output_type": "execute_result"
    }
   ],
   "source": [
    "names = [\"ibuprofen\"]\n",
    "smiles = [chat.context[-1]['content']]\n",
    "\n",
    "Draw.MolsToGridImage(mols=[Chem.MolFromSmiles(x) for x in smiles], \n",
    "                     molsPerRow=5, subImgSize=(400,300), legends=names)"
   ]
  },
  {
   "cell_type": "code",
   "execution_count": null,
   "id": "b1017875",
   "metadata": {},
   "outputs": [
    {
     "data": {
      "text/plain": [
       "'Saving complete!'"
      ]
     },
     "execution_count": null,
     "metadata": {},
     "output_type": "execute_result"
    }
   ],
   "source": [
    "chat.save_conversation(generate_title=False)"
   ]
  },
  {
   "cell_type": "code",
   "execution_count": null,
   "id": "08b4a0e1",
   "metadata": {},
   "outputs": [
    {
     "data": {
      "text/plain": [
       "'Saving complete!'"
      ]
     },
     "execution_count": null,
     "metadata": {},
     "output_type": "execute_result"
    }
   ],
   "source": [
    "chat.save_conversation()"
   ]
  },
  {
   "cell_type": "code",
   "execution_count": null,
   "id": "6998a2fb",
   "metadata": {},
   "outputs": [
    {
     "data": {
      "text/plain": [
       "'ibuprofen-smiles-string-generation'"
      ]
     },
     "execution_count": null,
     "metadata": {},
     "output_type": "execute_result"
    }
   ],
   "source": [
    "chat.title"
   ]
  },
  {
   "cell_type": "code",
   "execution_count": null,
   "id": "18258333",
   "metadata": {},
   "outputs": [
    {
     "data": {
      "text/plain": [
       "[{'prompt_tokens': 21, 'completion_tokens': 20, 'total_tokens': 41},\n",
       " {'prompt_tokens': 73, 'completion_tokens': 9, 'total_tokens': 82}]"
      ]
     },
     "execution_count": null,
     "metadata": {},
     "output_type": "execute_result"
    }
   ],
   "source": [
    "chat.usage"
   ]
  },
  {
   "cell_type": "code",
   "execution_count": null,
   "id": "03058e25",
   "metadata": {},
   "outputs": [
    {
     "name": "stdout",
     "output_type": "stream",
     "text": [
      "Input tokens: 94\n",
      "Output tokens: 29\n",
      "Total tokens: 123\n"
     ]
    }
   ],
   "source": [
    "chat.usage_summary()"
   ]
  },
  {
   "cell_type": "code",
   "execution_count": null,
   "id": "1e71a6ba",
   "metadata": {},
   "outputs": [
    {
     "data": {
      "text/plain": [
       "1740427285"
      ]
     },
     "execution_count": null,
     "metadata": {},
     "output_type": "execute_result"
    }
   ],
   "source": [
    "chat.date"
   ]
  },
  {
   "cell_type": "code",
   "execution_count": null,
   "id": "fc877cc1",
   "metadata": {},
   "outputs": [],
   "source": [
    "#| export\n",
    "@patch\n",
    "def print_conversation(self:Chat, user=\"Me\"):\n",
    "    assistant = self.model.split(\"/\")[1].split(\"-\")[0].capitalize()\n",
    "    title = \" \".join(self.title.split('-')).capitalize()\n",
    "    display_markdown(self._show(f\"**{title}**\"))\n",
    "    for i in self.context:\n",
    "        if i['role'] == 'user':\n",
    "            display_markdown(self._show(f\"**{user}**: {i['content']}\"))\n",
    "        elif i['role'] == 'assistant':\n",
    "            display_markdown(self._show(f\"**{assistant}**: {i['content']}\"))"
   ]
  },
  {
   "cell_type": "code",
   "execution_count": null,
   "id": "c63d9554",
   "metadata": {},
   "outputs": [
    {
     "data": {
      "text/markdown": [
       "**Ibuprofen smiles string generation**"
      ]
     },
     "metadata": {},
     "output_type": "display_data"
    },
    {
     "data": {
      "text/markdown": [
       "**Me**: Give me the canonical SMILES string of ibuprofen. Output only the SMILES string and nothing else."
      ]
     },
     "metadata": {},
     "output_type": "display_data"
    },
    {
     "data": {
      "text/markdown": [
       "**Gemini**: CC(C)Cc1ccc(C(C)C(=O)O)cc1\n"
      ]
     },
     "metadata": {},
     "output_type": "display_data"
    }
   ],
   "source": [
    "chat.print_conversation()"
   ]
  },
  {
   "cell_type": "code",
   "execution_count": null,
   "id": "3de3ee92",
   "metadata": {},
   "outputs": [],
   "source": [
    "#| export\n",
    "def print_conversation(conversation, user=\"User\", assistant=\"Assistant\"):\n",
    "    for i in conversation:\n",
    "        if i['role'] == 'user':\n",
    "            display_markdown(show(f\"**{user}**: {i['content']}\"))\n",
    "        elif i['role'] == 'assistant':\n",
    "            display_markdown(show(f\"**{assistant}**: {i['content']}\"))"
   ]
  },
  {
   "cell_type": "code",
   "execution_count": null,
   "id": "21d7b0e4",
   "metadata": {},
   "outputs": [
    {
     "data": {
      "text/markdown": [
       "**Me**: Give me the canonical SMILES string of ibuprofen. Output only the SMILES string and nothing else."
      ]
     },
     "metadata": {},
     "output_type": "display_data"
    },
    {
     "data": {
      "text/markdown": [
       "**Gemini**: CC(C)Cc1ccc(C(C)C(=O)O)cc1\n"
      ]
     },
     "metadata": {},
     "output_type": "display_data"
    }
   ],
   "source": [
    "file_path = chat.chatsdir + chat.time + \"-\" + chat.title + \".txt\"\n",
    "assistant = file_path.split(\"/\")[-2].split(\"-\")[0].capitalize()\n",
    "\n",
    "with open(file_path, 'r') as f:\n",
    "    conv = f.read()\n",
    "    \n",
    "print_conversation(json.loads(conv), user=\"Me\", assistant=assistant)"
   ]
  },
  {
   "cell_type": "code",
   "execution_count": null,
   "id": "17212a5f",
   "metadata": {},
   "outputs": [],
   "source": [
    "#| hide\n",
    "import nbdev; nbdev.nbdev_export()"
   ]
  }
 ],
 "metadata": {
  "kernelspec": {
   "display_name": "python3",
   "language": "python",
   "name": "python3"
  }
 },
 "nbformat": 4,
 "nbformat_minor": 5
}
